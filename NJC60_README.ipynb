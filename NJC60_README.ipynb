{
 "cells": [
  {
   "cell_type": "markdown",
   "metadata": {},
   "source": [
    "This software allows you to insert your favorite color and will let you know if your favorite color matches the developer's favorite color\n",
    "\n",
    "To use this software, download a program that allows you to execute python code within it. Once you have that installed, you can copy and paste the code from this repository into it. Once this is done, you can run the program and put the inputs in as normally. \n",
    "\n",
    "To ensure software is running normally, insert 'test' into the question when asked for favorite color.\n",
    "\n",
    "----------------------------------------------\n",
    "I chose to write my own code of conduct to outline how I as a developer would wish for this software to be utilized. I implemented aspects from the lab lesson that I liked.\n",
    "I chose to write my own license to outline what the user is permitted to do with the software. Since i would plan on this being open-source, it does not have very many restrictions, rather more "
   ]
  }
 ],
 "metadata": {
  "kernelspec": {
   "display_name": "Python 3",
   "language": "python",
   "name": "python3"
  },
  "language_info": {
   "codemirror_mode": {
    "name": "ipython",
    "version": 3
   },
   "file_extension": ".py",
   "mimetype": "text/x-python",
   "name": "python",
   "nbconvert_exporter": "python",
   "pygments_lexer": "ipython3",
   "version": "3.8.3"
  }
 },
 "nbformat": 4,
 "nbformat_minor": 4
}
